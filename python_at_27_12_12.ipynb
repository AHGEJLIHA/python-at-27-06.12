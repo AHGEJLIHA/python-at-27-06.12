{
  "nbformat": 4,
  "nbformat_minor": 0,
  "metadata": {
    "colab": {
      "name": "python-at-27-12.12.ipynb",
      "provenance": [],
      "authorship_tag": "ABX9TyM3+HywdEVnsuXLwHAqOCA5",
      "include_colab_link": true
    },
    "kernelspec": {
      "name": "python3",
      "display_name": "Python 3"
    },
    "language_info": {
      "name": "python"
    }
  },
  "cells": [
    {
      "cell_type": "markdown",
      "metadata": {
        "id": "view-in-github",
        "colab_type": "text"
      },
      "source": [
        "<a href=\"https://colab.research.google.com/github/AHGEJLIHA/python-at-27-06.12/blob/main/python_at_27_12_12.ipynb\" target=\"_parent\"><img src=\"https://colab.research.google.com/assets/colab-badge.svg\" alt=\"Open In Colab\"/></a>"
      ]
    },
    {
      "cell_type": "code",
      "execution_count": null,
      "metadata": {
        "colab": {
          "base_uri": "https://localhost:8080/"
        },
        "id": "XRnRYfNqeOm0",
        "outputId": "92138475-b8ab-45eb-c75b-40ea7a7cb50b"
      },
      "outputs": [
        {
          "output_type": "stream",
          "name": "stdout",
          "text": [
            "Из 1068 людей не совпадают профессия и должность у 793\n",
            "Топ-5 людей по образованию, работающие менеджерами:\n",
            "бакалавр              11\n",
            "менеджер              10\n",
            "экономист              6\n",
            "специалист             6\n",
            "экономист-менеджер     4\n",
            "Name: qualification, dtype: int64\n",
            "\n",
            "\n",
            "Топ-5 должностей, имеющие диплом\n",
            "главный инженер                3\n",
            "заместитель директора          3\n",
            "оператор                       2\n",
            "ведущий инженер-конструктор    2\n",
            "директор                       2\n",
            "Name: jobTitle, dtype: int64\n"
          ]
        }
      ],
      "source": [
        "import pandas as pd\n",
        "\n",
        "\n",
        "def count_not_match_people(firstField, secondField, dateInfo):\n",
        "    count = 0\n",
        "    for (firstField, secondField) in zip(dateInfo[firstField], dateInfo[secondField]):\n",
        "        if not if_find_match_people(firstField, secondField) and not if_find_match_people(secondField, firstField):\n",
        "            count += 1\n",
        "    return count\n",
        "\n",
        "\n",
        "def if_find_match_people(firstField, secondField):\n",
        "    dateInfo = firstField.lower().replace('-', ' ').split()\n",
        "    for word in dateInfo:\n",
        "        if word in secondField.lower():\n",
        "            return True\n",
        "    return False\n",
        "\n",
        "\n",
        "works = pd.read_csv(\"works.csv\").dropna()\n",
        "count_not_match_people = count_not_match_people(\"jobTitle\", \"qualification\", works)\n",
        "print(f\"Из {works.shape[0]} людей не совпадают профессия и должность у {count_not_match_people}\")\n",
        "\n",
        "word = \"менеджер\"\n",
        "print(\"Топ-5 людей по образованию, работающие менеджерами:\")\n",
        "print(works[works[\"jobTitle\"].str.lower().str.contains(word[:-2])][\"qualification\"].str.lower().value_counts().head(5))\n",
        "print(\"\\n\")\n",
        "word = \"инженер\"\n",
        "print(\"Топ-5 должностей, имеющие диплом\")\n",
        "print(works[works[\"qualification\"].str.lower().str.contains(word[:-2])][\"jobTitle\"].str.lower().value_counts().head(5))"
      ]
    }
  ]
}